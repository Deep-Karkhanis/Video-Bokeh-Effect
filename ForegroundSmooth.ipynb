{
 "cells": [
  {
   "cell_type": "code",
   "execution_count": null,
   "metadata": {},
   "outputs": [],
   "source": [
    "import numpy as np\n",
    "import cv2 as cv\n",
    "from matplotlib import pyplot as plt\n",
    "%matplotlib inline"
   ]
  },
  {
   "cell_type": "code",
   "execution_count": null,
   "metadata": {},
   "outputs": [],
   "source": [
    "vidObj = cv.VideoCapture(\"./videos/ghoda.mp4\")\n",
    "fourcc = cv.VideoWriter_fourcc(*'XVID')\n",
    "out = cv.VideoWriter('./output/ghoda.avi',fourcc, 30.0, (640,480))"
   ]
  },
  {
   "cell_type": "code",
   "execution_count": null,
   "metadata": {},
   "outputs": [],
   "source": [
    "imgArray = []\n",
    "maskArray = []"
   ]
  },
  {
   "cell_type": "code",
   "execution_count": null,
   "metadata": {
    "code_folding": []
   },
   "outputs": [],
   "source": [
    "%%time\n",
    "\n",
    "success = 1\n",
    "i=1\n",
    "\n",
    "success, img1 = vidObj.read()\n",
    "while success:\n",
    "    img = cv.resize(img1, dsize=(640,480), interpolation=cv.INTER_LINEAR)\n",
    "    mask = np.zeros(img.shape[:2],np.uint8)\n",
    "    \n",
    "    bgdModel = np.zeros((1,65),np.float64)\n",
    "    fgdModel = np.zeros((1,65),np.float64)\n",
    "    rect = (100,30,300,400)\n",
    "    \n",
    "    cv.grabCut(img,mask,rect,bgdModel,fgdModel,5,cv.GC_INIT_WITH_RECT);\n",
    "    front_mask = np.where((mask==2)|(mask==0),0,1).astype('uint8')\n",
    "    fore = img*front_mask[:,:,np.newaxis]\n",
    "    out.write(fore)\n",
    "    print(i)\n",
    "    i +=1\n",
    "    \n",
    "    imgArray.append(img)\n",
    "    maskArray.append(mask)\n",
    "    \n",
    "    success, img1 = vidObj.read()\n",
    "\n",
    "vidObj.release()\n",
    "out.release()\n",
    "print(\"Ended\")"
   ]
  },
  {
   "cell_type": "code",
   "execution_count": null,
   "metadata": {},
   "outputs": [],
   "source": [
    "maskArray = np.asarray(maskArray)"
   ]
  },
  {
   "cell_type": "code",
   "execution_count": null,
   "metadata": {},
   "outputs": [],
   "source": [
    "imgArray = np.asarray(imgArray)"
   ]
  },
  {
   "cell_type": "code",
   "execution_count": null,
   "metadata": {},
   "outputs": [],
   "source": [
    "imgArray.shape , maskArray.shape"
   ]
  },
  {
   "cell_type": "code",
   "execution_count": null,
   "metadata": {},
   "outputs": [],
   "source": [
    "filt = np.ones([3,3,3])"
   ]
  },
  {
   "cell_type": "code",
   "execution_count": null,
   "metadata": {},
   "outputs": [],
   "source": [
    "# 1 in foreground\n",
    "mask = np.where((maskArray==2)|(maskArray==0),0,1).astype('uint8')"
   ]
  },
  {
   "cell_type": "code",
   "execution_count": null,
   "metadata": {},
   "outputs": [],
   "source": [
    "from scipy.ndimage import correlate"
   ]
  },
  {
   "cell_type": "code",
   "execution_count": null,
   "metadata": {},
   "outputs": [],
   "source": [
    "c = correlate(mask,filt,mode = 'nearest')"
   ]
  },
  {
   "cell_type": "code",
   "execution_count": null,
   "metadata": {},
   "outputs": [],
   "source": [
    "# if number of pixel in neighbourhood >= 15\n",
    "maskNew = np.where((c >= 15),1,0).astype('uint8')"
   ]
  },
  {
   "cell_type": "code",
   "execution_count": null,
   "metadata": {},
   "outputs": [],
   "source": [
    "newout = cv.VideoWriter('./output/smoothghoda.avi',fourcc, 30.0, (640,480))"
   ]
  },
  {
   "cell_type": "code",
   "execution_count": null,
   "metadata": {},
   "outputs": [],
   "source": [
    "for i in range(imgArray.shape[0]):\n",
    "    img = imgArray[i,:,:,:]\n",
    "    front_mask = maskNew[i,:,:]\n",
    "    fore = img*front_mask[:,:,np.newaxis]\n",
    "    newout.write(fore)\n",
    "newout.release()"
   ]
  },
  {
   "cell_type": "code",
   "execution_count": null,
   "metadata": {},
   "outputs": [],
   "source": []
  }
 ],
 "metadata": {
  "kernelspec": {
   "display_name": "Python 3",
   "language": "python",
   "name": "python3"
  },
  "language_info": {
   "codemirror_mode": {
    "name": "ipython",
    "version": 3
   },
   "file_extension": ".py",
   "mimetype": "text/x-python",
   "name": "python",
   "nbconvert_exporter": "python",
   "pygments_lexer": "ipython3",
   "version": "3.7.3"
  }
 },
 "nbformat": 4,
 "nbformat_minor": 2
}

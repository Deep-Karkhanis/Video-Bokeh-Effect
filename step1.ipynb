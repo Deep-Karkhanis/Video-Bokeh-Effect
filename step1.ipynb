{
 "cells": [
  {
   "cell_type": "code",
   "execution_count": null,
   "metadata": {},
   "outputs": [],
   "source": [
    "import numpy as np\n",
    "import cv2 as cv\n",
    "from matplotlib import pyplot as plt\n",
    "from scipy.ndimage import correlate\n",
    "from tqdm import tqdm as tqdm\n",
    "\n",
    "%matplotlib inline"
   ]
  },
  {
   "cell_type": "code",
   "execution_count": null,
   "metadata": {},
   "outputs": [],
   "source": [
    "savingName = 'fancy_light'"
   ]
  },
  {
   "cell_type": "code",
   "execution_count": null,
   "metadata": {},
   "outputs": [],
   "source": [
    "vidObj = cv.VideoCapture(\"./videos/%s.mp4\" % savingName )\n",
    "fourcc = cv.VideoWriter_fourcc(*'XVID')\n",
    "out = cv.VideoWriter('./output/%s.avi' % savingName,fourcc, 30.0, (640,480))"
   ]
  },
  {
   "cell_type": "code",
   "execution_count": null,
   "metadata": {},
   "outputs": [],
   "source": [
    "imgArray = []\n",
    "maskArray = []"
   ]
  },
  {
   "cell_type": "code",
   "execution_count": null,
   "metadata": {},
   "outputs": [],
   "source": [
    "# success, img1 = vidObj.read()\n",
    "# img = cv.resize(img1, dsize=(640,480), interpolation=cv.INTER_LINEAR)\n",
    "\n",
    "# mask = np.zeros(img.shape[:2],np.uint8)\n",
    "\n",
    "# bgdModel = np.zeros((1,65),np.float64)\n",
    "# fgdModel = np.zeros((1,65),np.float64)\n",
    "# rect = (320,180,200,300)\n",
    "\n",
    "\n",
    "\n",
    "# cv.grabCut(img,mask,rect,bgdModel,fgdModel,5,cv.GC_INIT_WITH_RECT);\n",
    "# front_mask = np.where((mask==2)|(mask==0),0,1).astype('uint8')\n",
    "# fore = img*front_mask[:,:,np.newaxis]\n",
    "\n",
    "# plt.imshow(cv.cvtColor(fore, cv.COLOR_BGR2RGB)),plt.colorbar(),plt.show();"
   ]
  },
  {
   "cell_type": "code",
   "execution_count": null,
   "metadata": {},
   "outputs": [],
   "source": []
  },
  {
   "cell_type": "code",
   "execution_count": null,
   "metadata": {
    "code_folding": [],
    "scrolled": true
   },
   "outputs": [],
   "source": [
    "%%time\n",
    "\n",
    "success = 1\n",
    "i=1\n",
    "\n",
    "success, img1 = vidObj.read()\n",
    "while success:\n",
    "    img = cv.resize(img1, dsize=(640,480), interpolation=cv.INTER_LINEAR)\n",
    "    mask = np.zeros(img.shape[:2],np.uint8)\n",
    "    \n",
    "    bgdModel = np.zeros((1,65),np.float64)\n",
    "    fgdModel = np.zeros((1,65),np.float64)\n",
    "    rect = (320,180,200,300)\n",
    "    \n",
    "    cv.grabCut(img,mask,rect,bgdModel,fgdModel,5,cv.GC_INIT_WITH_RECT);\n",
    "    front_mask = np.where((mask==2)|(mask==0),0,1).astype('uint8')\n",
    "    fore = img*front_mask[:,:,np.newaxis]\n",
    "    out.write(fore)\n",
    "    print(i)\n",
    "    i +=1\n",
    "    \n",
    "    imgArray.append(img)\n",
    "    maskArray.append(mask)\n",
    "    \n",
    "    success, img1 = vidObj.read()\n",
    "\n",
    "vidObj.release()\n",
    "out.release()\n",
    "print(\"Ended\")"
   ]
  },
  {
   "cell_type": "code",
   "execution_count": null,
   "metadata": {},
   "outputs": [],
   "source": [
    "maskArray = np.asarray(maskArray)\n",
    "imgArray = np.asarray(imgArray)\n",
    "\n",
    "maskArray.shape"
   ]
  },
  {
   "cell_type": "code",
   "execution_count": null,
   "metadata": {},
   "outputs": [],
   "source": [
    "filt = np.ones([10,3,3])"
   ]
  },
  {
   "cell_type": "code",
   "execution_count": null,
   "metadata": {},
   "outputs": [],
   "source": [
    "# 1 in foreground\n",
    "mask = np.where((maskArray==2)|(maskArray==0),0,1).astype('uint8')"
   ]
  },
  {
   "cell_type": "code",
   "execution_count": null,
   "metadata": {},
   "outputs": [],
   "source": [
    "c = correlate(mask,filt,mode = 'nearest')\n"
   ]
  },
  {
   "cell_type": "code",
   "execution_count": null,
   "metadata": {},
   "outputs": [],
   "source": [
    "\n",
    "# if number of pixel in neighbourhood >= 10\n",
    "maskNew = np.where((c >= 60),1,0).astype('uint8')\n"
   ]
  },
  {
   "cell_type": "code",
   "execution_count": null,
   "metadata": {},
   "outputs": [],
   "source": [
    "newout = cv.VideoWriter('./output/smooth%s.avi' % savingName,fourcc, 30.0, (640,480))"
   ]
  },
  {
   "cell_type": "code",
   "execution_count": null,
   "metadata": {},
   "outputs": [],
   "source": [
    "imgArray.shape"
   ]
  },
  {
   "cell_type": "code",
   "execution_count": null,
   "metadata": {},
   "outputs": [],
   "source": [
    "img_old = imgArray\n",
    "mask_old = maskNew\n",
    "\n",
    "maskNew = maskNew[:120,:,:]\n",
    "imgArray = imgArray[:120,:,:,:]\n"
   ]
  },
  {
   "cell_type": "code",
   "execution_count": null,
   "metadata": {},
   "outputs": [],
   "source": [
    "for i in range(imgArray.shape[0]):\n",
    "    img = imgArray[i,:,:,:]\n",
    "    front_mask = maskNew[i,:,:]\n",
    "    fore = img*front_mask[:,:,np.newaxis]\n",
    "    newout.write(fore)\n",
    "newout.release()"
   ]
  },
  {
   "cell_type": "code",
   "execution_count": null,
   "metadata": {},
   "outputs": [],
   "source": [
    "## Smoothing\n",
    "blurvideo = cv.VideoWriter('./output/blur%s.avi' % savingName,fourcc, 30.0, (640,480))"
   ]
  },
  {
   "cell_type": "code",
   "execution_count": null,
   "metadata": {
    "code_folding": []
   },
   "outputs": [],
   "source": [
    "for i in tqdm(range(imgArray.shape[0])):\n",
    "    img = imgArray[i,:,:,:]\n",
    "    front_mask = maskNew[i,:,:]\n",
    "    fore = img * front_mask[:,:,np.newaxis]\n",
    "    back = img - fore    \n",
    "    gamma = 3.0\n",
    "    imgTemp = np.power(img,gamma)\n",
    "    maxEle = np.amax(imgTemp)\n",
    "    gamCorrImg=np.divide(imgTemp,maxEle)\n",
    "    gamCorrImg=gamCorrImg*255\n",
    "    gamCorrImg=gamCorrImg.astype(np.uint8)\n",
    "    K = 32\n",
    "    x = np.arange(0, K)\n",
    "    y = np.arange(0, K)\n",
    "    arr = np.zeros((y.size, x.size))\n",
    "    cx = K/2 - 1.\n",
    "    cy = K/2 - 1.\n",
    "    r = K/2 - 1.\n",
    "    maska = (x[np.newaxis,:]-cx)**2 + (y[:,np.newaxis]-cy)**2 < r**2\n",
    "    arr[maska] = 1.\n",
    "    kern=np.divide(arr,np.sum(arr))\n",
    "    tImg=np.zeros(np.shape(gamCorrImg))\n",
    "    tImg[:,:,0]=cv.filter2D(gamCorrImg[:,:,0],-1,kern)\n",
    "    tImg[:,:,1]=cv.filter2D(gamCorrImg[:,:,1],-1,kern)\n",
    "    tImg[:,:,2]=cv.filter2D(gamCorrImg[:,:,2],-1,kern)\n",
    "    tImg=tImg.astype(np.uint8)\n",
    "    bImg=np.power(tImg,(1.0/gamma))\n",
    "    maxE = np.amax(bImg)\n",
    "    bImg=np.divide(bImg,(1.0*maxE))\n",
    "    bImg=bImg*255\n",
    "    bImg=bImg.astype(np.uint8)\n",
    "    tImg2=np.zeros(np.shape(img))\n",
    "    tImg2[:,:,0]=cv.filter2D(img[:,:,0],-1,kern)\n",
    "    tImg2[:,:,1]=cv.filter2D(img[:,:,1],-1,kern)\n",
    "    tImg2[:,:,2]=cv.filter2D(img[:,:,2],-1,kern)\n",
    "    bImg2=tImg2.astype(np.uint8)\n",
    "    bImg3 = np.maximum(bImg,bImg2)\n",
    "    imgNew = fore + bImg3 * (1 - front_mask[:,:,np.newaxis])\n",
    "    blurvideo.write(imgNew)\n",
    "blurvideo.release()   "
   ]
  },
  {
   "cell_type": "code",
   "execution_count": null,
   "metadata": {},
   "outputs": [],
   "source": [
    "normalVideo = cv.VideoWriter('./output/normal%s.avi' % savingName,fourcc, 30.0, (640,480))"
   ]
  },
  {
   "cell_type": "code",
   "execution_count": null,
   "metadata": {},
   "outputs": [],
   "source": [
    "for i in tqdm(range(imgArray.shape[0])):\n",
    "    img = imgArray[i,:,:,:]\n",
    "    normalVideo.write(img)\n",
    "normalVideo.release()   "
   ]
  },
  {
   "cell_type": "code",
   "execution_count": null,
   "metadata": {},
   "outputs": [],
   "source": [
    "a = 2\n",
    "a"
   ]
  },
  {
   "cell_type": "code",
   "execution_count": null,
   "metadata": {},
   "outputs": [],
   "source": []
  }
 ],
 "metadata": {
  "kernelspec": {
   "display_name": "Python 3",
   "language": "python",
   "name": "python3"
  },
  "language_info": {
   "codemirror_mode": {
    "name": "ipython",
    "version": 3
   },
   "file_extension": ".py",
   "mimetype": "text/x-python",
   "name": "python",
   "nbconvert_exporter": "python",
   "pygments_lexer": "ipython3",
   "version": "3.7.3"
  }
 },
 "nbformat": 4,
 "nbformat_minor": 2
}

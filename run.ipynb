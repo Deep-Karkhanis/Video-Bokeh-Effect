{
 "cells": [
  {
   "cell_type": "code",
   "execution_count": 1,
   "metadata": {},
   "outputs": [],
   "source": [
    "import numpy as np\n",
    "import cv2 as cv\n",
    "from matplotlib import pyplot as plt\n",
    "from scipy.ndimage import correlate\n",
    "from tqdm import tqdm as tqdm\n",
    "\n",
    "%matplotlib inline"
   ]
  },
  {
   "cell_type": "code",
   "execution_count": 2,
   "metadata": {},
   "outputs": [],
   "source": [
    "savingName = 'fancy_light'"
   ]
  },
  {
   "cell_type": "code",
   "execution_count": 3,
   "metadata": {},
   "outputs": [],
   "source": [
    "vidObj = cv.VideoCapture(\"./videos/%s.mp4\" % savingName )\n",
    "fourcc = cv.VideoWriter_fourcc(*'XVID')\n",
    "out = cv.VideoWriter('./output/%s.avi' % savingName,fourcc, 30.0, (640,480))"
   ]
  },
  {
   "cell_type": "code",
   "execution_count": 4,
   "metadata": {},
   "outputs": [],
   "source": [
    "imgArray = []\n",
    "maskArray = []"
   ]
  },
  {
   "cell_type": "code",
   "execution_count": 5,
   "metadata": {},
   "outputs": [],
   "source": [
    "# success, img1 = vidObj.read()\n",
    "# img = cv.resize(img1, dsize=(640,480), interpolation=cv.INTER_LINEAR)\n",
    "\n",
    "# mask = np.zeros(img.shape[:2],np.uint8)\n",
    "\n",
    "# bgdModel = np.zeros((1,65),np.float64)\n",
    "# fgdModel = np.zeros((1,65),np.float64)\n",
    "# rect = (320,180,200,300)\n",
    "\n",
    "\n",
    "\n",
    "# cv.grabCut(img,mask,rect,bgdModel,fgdModel,5,cv.GC_INIT_WITH_RECT);\n",
    "# front_mask = np.where((mask==2)|(mask==0),0,1).astype('uint8')\n",
    "# fore = img*front_mask[:,:,np.newaxis]\n",
    "\n",
    "# plt.imshow(cv.cvtColor(fore, cv.COLOR_BGR2RGB)),plt.colorbar(),plt.show();"
   ]
  },
  {
   "cell_type": "code",
   "execution_count": null,
   "metadata": {},
   "outputs": [],
   "source": []
  },
  {
   "cell_type": "code",
   "execution_count": 6,
   "metadata": {
    "code_folding": [],
    "scrolled": true
   },
   "outputs": [
    {
     "name": "stdout",
     "output_type": "stream",
     "text": [
      "1\n",
      "2\n",
      "3\n",
      "4\n",
      "5\n",
      "6\n",
      "7\n",
      "8\n",
      "9\n",
      "10\n",
      "11\n",
      "12\n",
      "13\n",
      "14\n",
      "15\n",
      "16\n",
      "17\n",
      "18\n",
      "19\n",
      "20\n",
      "21\n",
      "22\n",
      "23\n",
      "24\n",
      "25\n",
      "26\n",
      "27\n",
      "28\n",
      "29\n",
      "30\n",
      "31\n",
      "32\n",
      "33\n",
      "34\n",
      "35\n",
      "36\n",
      "37\n",
      "38\n",
      "39\n",
      "40\n",
      "41\n",
      "42\n",
      "43\n",
      "44\n",
      "45\n",
      "46\n",
      "47\n",
      "48\n",
      "49\n",
      "50\n",
      "51\n",
      "52\n",
      "53\n",
      "54\n",
      "55\n",
      "56\n",
      "57\n",
      "58\n",
      "59\n",
      "60\n",
      "61\n",
      "62\n",
      "63\n",
      "64\n",
      "65\n",
      "66\n",
      "67\n",
      "68\n",
      "69\n",
      "70\n",
      "71\n",
      "72\n",
      "73\n",
      "74\n",
      "75\n",
      "76\n",
      "77\n",
      "78\n",
      "79\n",
      "80\n",
      "81\n",
      "82\n",
      "83\n",
      "84\n",
      "85\n",
      "86\n",
      "87\n",
      "88\n",
      "89\n",
      "90\n",
      "91\n",
      "92\n",
      "93\n",
      "94\n",
      "95\n",
      "96\n",
      "97\n",
      "98\n",
      "99\n",
      "100\n",
      "101\n",
      "102\n",
      "103\n",
      "104\n",
      "105\n",
      "106\n",
      "107\n",
      "108\n",
      "109\n",
      "110\n",
      "111\n",
      "112\n",
      "113\n",
      "114\n",
      "115\n",
      "116\n",
      "117\n",
      "118\n",
      "119\n",
      "120\n",
      "121\n",
      "122\n",
      "123\n",
      "124\n",
      "125\n",
      "126\n",
      "127\n",
      "128\n",
      "129\n",
      "130\n",
      "131\n",
      "132\n",
      "133\n",
      "134\n",
      "135\n",
      "136\n",
      "137\n",
      "138\n",
      "139\n",
      "140\n",
      "141\n",
      "142\n",
      "143\n",
      "144\n",
      "145\n",
      "146\n",
      "147\n",
      "148\n",
      "149\n",
      "150\n",
      "151\n",
      "152\n",
      "153\n",
      "154\n",
      "Ended\n",
      "Wall time: 3min 48s\n"
     ]
    }
   ],
   "source": [
    "%%time\n",
    "\n",
    "success = 1\n",
    "i=1\n",
    "\n",
    "success, img1 = vidObj.read()\n",
    "while success:\n",
    "    img = cv.resize(img1, dsize=(640,480), interpolation=cv.INTER_LINEAR)\n",
    "    mask = np.zeros(img.shape[:2],np.uint8)\n",
    "    \n",
    "    bgdModel = np.zeros((1,65),np.float64)\n",
    "    fgdModel = np.zeros((1,65),np.float64)\n",
    "    rect = (320,180,200,300)\n",
    "    \n",
    "    cv.grabCut(img,mask,rect,bgdModel,fgdModel,5,cv.GC_INIT_WITH_RECT);\n",
    "    front_mask = np.where((mask==2)|(mask==0),0,1).astype('uint8')\n",
    "    fore = img*front_mask[:,:,np.newaxis]\n",
    "    out.write(fore)\n",
    "    print(i)\n",
    "    i +=1\n",
    "    \n",
    "    imgArray.append(img)\n",
    "    maskArray.append(mask)\n",
    "    \n",
    "    success, img1 = vidObj.read()\n",
    "\n",
    "vidObj.release()\n",
    "out.release()\n",
    "print(\"Ended\")"
   ]
  },
  {
   "cell_type": "code",
   "execution_count": 7,
   "metadata": {},
   "outputs": [
    {
     "data": {
      "text/plain": [
       "(154, 480, 640)"
      ]
     },
     "execution_count": 7,
     "metadata": {},
     "output_type": "execute_result"
    }
   ],
   "source": [
    "maskArray = np.asarray(maskArray)\n",
    "imgArray = np.asarray(imgArray)\n",
    "\n",
    "maskArray.shape"
   ]
  },
  {
   "cell_type": "code",
   "execution_count": 8,
   "metadata": {},
   "outputs": [],
   "source": [
    "filt = np.ones([10,3,3])"
   ]
  },
  {
   "cell_type": "code",
   "execution_count": 9,
   "metadata": {},
   "outputs": [],
   "source": [
    "# 1 in foreground\n",
    "mask = np.where((maskArray==2)|(maskArray==0),0,1).astype('uint8')"
   ]
  },
  {
   "cell_type": "code",
   "execution_count": 10,
   "metadata": {},
   "outputs": [],
   "source": [
    "c = correlate(mask,filt,mode = 'nearest')\n"
   ]
  },
  {
   "cell_type": "code",
   "execution_count": 11,
   "metadata": {},
   "outputs": [],
   "source": [
    "\n",
    "# if number of pixel in neighbourhood >= 10\n",
    "maskNew = np.where((c >= 60),1,0).astype('uint8')\n"
   ]
  },
  {
   "cell_type": "code",
   "execution_count": 12,
   "metadata": {},
   "outputs": [],
   "source": [
    "newout = cv.VideoWriter('./output/smooth%s.avi' % savingName,fourcc, 30.0, (640,480))"
   ]
  },
  {
   "cell_type": "code",
   "execution_count": 13,
   "metadata": {},
   "outputs": [
    {
     "data": {
      "text/plain": [
       "(154, 480, 640, 3)"
      ]
     },
     "execution_count": 13,
     "metadata": {},
     "output_type": "execute_result"
    }
   ],
   "source": [
    "imgArray.shape"
   ]
  },
  {
   "cell_type": "code",
   "execution_count": 14,
   "metadata": {},
   "outputs": [],
   "source": [
    "img_old = imgArray\n",
    "mask_old = maskNew\n",
    "\n",
    "maskNew = maskNew[:120,:,:]\n",
    "imgArray = imgArray[:120,:,:,:]\n"
   ]
  },
  {
   "cell_type": "code",
   "execution_count": 15,
   "metadata": {},
   "outputs": [],
   "source": [
    "for i in range(imgArray.shape[0]):\n",
    "    img = imgArray[i,:,:,:]\n",
    "    front_mask = maskNew[i,:,:]\n",
    "    fore = img*front_mask[:,:,np.newaxis]\n",
    "    newout.write(fore)\n",
    "newout.release()"
   ]
  },
  {
   "cell_type": "code",
   "execution_count": 24,
   "metadata": {},
   "outputs": [],
   "source": [
    "## Smoothing\n",
    "blurvideo = cv.VideoWriter('./output/blur%s.avi' % savingName,fourcc, 30.0, (640,480))"
   ]
  },
  {
   "cell_type": "code",
   "execution_count": 25,
   "metadata": {
    "code_folding": [
     0
    ]
   },
   "outputs": [
    {
     "name": "stderr",
     "output_type": "stream",
     "text": [
      "100%|█████████████████████████████████████████████████████████████████████████████████████████████████████████████████████████████████████| 120/120 [00:52<00:00,  2.29it/s]\n"
     ]
    }
   ],
   "source": [
    "for i in tqdm(range(imgArray.shape[0])):\n",
    "    img = imgArray[i,:,:,:]\n",
    "    front_mask = maskNew[i,:,:]\n",
    "    fore = img * front_mask[:,:,np.newaxis]\n",
    "    back = img - fore    \n",
    "    imgTemp = np.power(img,3.0)\n",
    "    maxEle = np.amax(imgTemp)\n",
    "    gamCorrImg=np.divide(imgTemp,maxEle)\n",
    "    gamCorrImg=gamCorrImg*255\n",
    "    gamCorrImg=gamCorrImg.astype(np.uint8)\n",
    "    K = 32\n",
    "    x = np.arange(0, K)\n",
    "    y = np.arange(0, K)\n",
    "    arr = np.zeros((y.size, x.size))\n",
    "    cx = K/2 - 1.\n",
    "    cy = K/2 - 1.\n",
    "    r = K/2 - 1.\n",
    "    maska = (x[np.newaxis,:]-cx)**2 + (y[:,np.newaxis]-cy)**2 < r**2\n",
    "    arr[maska] = 1.\n",
    "    kern=np.divide(arr,np.sum(arr))\n",
    "    tImg=np.zeros(np.shape(gamCorrImg))\n",
    "    tImg[:,:,0]=cv.filter2D(gamCorrImg[:,:,0],-1,kern)\n",
    "    tImg[:,:,1]=cv.filter2D(gamCorrImg[:,:,1],-1,kern)\n",
    "    tImg[:,:,2]=cv.filter2D(gamCorrImg[:,:,2],-1,kern)\n",
    "    tImg=tImg.astype(np.uint8)\n",
    "    bImg=np.power(tImg,(1/3.0))\n",
    "    maxE = np.amax(bImg)\n",
    "    bImg=np.divide(bImg,(1.0*maxE))\n",
    "    bImg=bImg*255\n",
    "    bImg=bImg.astype(np.uint8)\n",
    "    tImg2=np.zeros(np.shape(img))\n",
    "    tImg2[:,:,0]=cv.filter2D(img[:,:,0],-1,kern)\n",
    "    tImg2[:,:,1]=cv.filter2D(img[:,:,1],-1,kern)\n",
    "    tImg2[:,:,2]=cv.filter2D(img[:,:,2],-1,kern)\n",
    "    bImg2=tImg2.astype(np.uint8)\n",
    "    bImg3 = np.maximum(bImg,bImg2)\n",
    "    imgNew = fore + bImg3 * (1 - front_mask[:,:,np.newaxis])\n",
    "    blurvideo.write(imgNew)\n",
    "blurvideo.release()   "
   ]
  },
  {
   "cell_type": "code",
   "execution_count": 18,
   "metadata": {},
   "outputs": [],
   "source": [
    "normalVideo = cv.VideoWriter('./output/normal%s.avi' % savingName,fourcc, 30.0, (640,480))"
   ]
  },
  {
   "cell_type": "code",
   "execution_count": 19,
   "metadata": {},
   "outputs": [
    {
     "name": "stderr",
     "output_type": "stream",
     "text": [
      "100%|████████████████████████████████████████████████████████████████████████████████████████████████████████████████████████████████████| 120/120 [00:00<00:00, 402.21it/s]\n"
     ]
    }
   ],
   "source": [
    "for i in tqdm(range(imgArray.shape[0])):\n",
    "    img = imgArray[i,:,:,:]\n",
    "    normalVideo.write(img)\n",
    "normalVideo.release()   "
   ]
  },
  {
   "cell_type": "code",
   "execution_count": 26,
   "metadata": {},
   "outputs": [
    {
     "data": {
      "text/plain": [
       "2"
      ]
     },
     "execution_count": 26,
     "metadata": {},
     "output_type": "execute_result"
    }
   ],
   "source": [
    "a = 2\n",
    "a"
   ]
  },
  {
   "cell_type": "code",
   "execution_count": null,
   "metadata": {},
   "outputs": [],
   "source": []
  }
 ],
 "metadata": {
  "kernelspec": {
   "display_name": "Python 3",
   "language": "python",
   "name": "python3"
  },
  "language_info": {
   "codemirror_mode": {
    "name": "ipython",
    "version": 3
   },
   "file_extension": ".py",
   "mimetype": "text/x-python",
   "name": "python",
   "nbconvert_exporter": "python",
   "pygments_lexer": "ipython3",
   "version": "3.7.3"
  }
 },
 "nbformat": 4,
 "nbformat_minor": 2
}
